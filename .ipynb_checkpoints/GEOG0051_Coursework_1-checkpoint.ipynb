{
 "cells": [
  {
   "cell_type": "markdown",
   "metadata": {},
   "source": [
    "### GEOG0051\n",
    "\n",
    "Mining Social and Geographic Datasets\n",
    "-----------------------------------\n",
    "\n",
    "Coursework Part One\n",
    "-------------------------------\n",
    "\n",
    "Stephen Law and Nikki Tanu"
   ]
  },
  {
   "cell_type": "markdown",
   "metadata": {},
   "source": [
    "For the first task, you will be analysing the mobility patterns of users from Gowalla, a now-defunct online geo-social networkfrom a decade ago. On Gowalla, users were able to check in at different locations across the course of the day. The dataset that is provided to you (available on Moodle) is a subset of Gowalla users located in Cambridge, UK and, although with some personal identifiers of the users removed, you could trace the movements of particular individuals on certain days, according to their check-ins.\n",
    "\n",
    "For  further  information,  the  entire  dataset  is  available  athttps://snap.stanford.edu/data/loc-gowalla.html."
   ]
  },
  {
   "cell_type": "markdown",
   "metadata": {},
   "source": [
    "The variables contained in the dataset (which should be self-explanatory), provided in a .csv file, are:\n",
    "\n",
    "* UserID, or the unique identifier of the user, e.g. 196514\n",
    "* check-in-date, e.g. 2010-07-24\n",
    "* check-in-time, e.g. 13:45:06\n",
    "* latitude, e.g. 53.3648119\n",
    "* longitude, e.g. -2.2723465833\n",
    "* locid, or the unique identifier of the location, e.g. 145064"
   ]
  },
  {
   "cell_type": "markdown",
   "metadata": {},
   "source": [
    "### 2.2.1 Visualise individual check-in locations\n",
    "\n",
    "Visualise the check-in locations of the GC dataset for users with UserIDs `75027` and `102829` using the `Folium` library. Comment briefly on your findings of the locations visited by the 2 users, using any library that enables mapping. You should also comment briefly on the privacy implications of this type of analysis.\n",
    "\n",
    "Note: This task primarily serves to help familiarise you with the dataset; we advise not to spend too long on it.\n"
   ]
  },
  {
   "cell_type": "markdown",
   "metadata": {},
   "source": [
    "### 2.2.2 Provide Characterisation of the Gowalla dataset\n",
    "Provide a characterisation of the data available for the user `75027` on 30/01/2010 and for user `102829` on 11/05/2010, by visualising the paths for both users using the OSMnx library. Then, summarising your answers in a table in your report andcompute, for each user:\n",
    "\n",
    "* the maximum displacement (i.e. maximum distance between two consecutive locations they moved between);\n",
    "* the average displacement (i.e. average distance between two consecutive locations/check-ins);\n",
    "* the total distance travelled on the day;\n",
    "* **Note**: All distances should be described in network distance, i.e.  the distances of paths along the street networks,rather than geographical distances without consideration of the street paths.\n"
   ]
  },
  {
   "cell_type": "markdown",
   "metadata": {},
   "source": [
    "### 2.2.3. Comparative analysis of check-in frequencies and network centrality\n",
    "\n",
    "Describe the general pattern of user check-ins in the Gowalla dataset in relation to closeness centrality measure for the City of Cambridge, UK, using whatever visual aids you see as fitting to your analysis. Comment on any observable trends which youfind most noticeable and/or interesting.\n"
   ]
  },
  {
   "cell_type": "markdown",
   "metadata": {},
   "source": [
    "### 2.2.4 Urban Planning Application Question\n",
    "\n",
    "Imagine that you were taking the role of a consultant to the authorities in Cambridge responsible for urban planning. Choose one of the following urban features and propose a new location where you would build that feature: museum, shopping mall, fire station, community park. Use the outputs of your analysis from the task above (2.2.3) and any relevant knowledge of the local area to justify your decision.\n",
    "\n",
    "Note: You do not have to do any further analysis/ visualisation by code. However, ifyou feel like your response could benefit from further analysis, you can choose to briefly describe what accompanying analysis you would undertake."
   ]
  },
  {
   "cell_type": "code",
   "execution_count": null,
   "metadata": {
    "collapsed": true
   },
   "outputs": [],
   "source": []
  }
 ],
 "metadata": {
  "kernelspec": {
   "display_name": "Python [conda env:py36]",
   "language": "python",
   "name": "conda-env-py36-py"
  },
  "language_info": {
   "codemirror_mode": {
    "name": "ipython",
    "version": 3
   },
   "file_extension": ".py",
   "mimetype": "text/x-python",
   "name": "python",
   "nbconvert_exporter": "python",
   "pygments_lexer": "ipython3",
   "version": "3.6.4"
  }
 },
 "nbformat": 4,
 "nbformat_minor": 4
}
